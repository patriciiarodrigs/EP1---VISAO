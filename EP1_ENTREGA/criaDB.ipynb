{
 "cells": [
  {
   "cell_type": "markdown",
   "metadata": {},
   "source": [
    "adicione o nome dos ob jetos que compoem a imagem aos metadados delas"
   ]
  },
  {
   "cell_type": "code",
   "execution_count": 31,
   "metadata": {},
   "outputs": [],
   "source": [
    "from PIL import Image, PngImagePlugin"
   ]
  },
  {
   "cell_type": "code",
   "execution_count": 32,
   "metadata": {},
   "outputs": [],
   "source": [
    "def adicionar_objetos_metadados(caminho_imagem, lista_objetos):\n",
    "    try:\n",
    "        # Abrir a imagem\n",
    "        imagem = Image.open(caminho_imagem)\n",
    "\n",
    "        # Adicionar os nomes dos objetos aos metadados\n",
    "        xmp = PngImagePlugin.PngInfo()\n",
    "        xmp.add_text(\"objetos\", \",\".join(lista_objetos))\n",
    "\n",
    "        # Salvar a imagem com os novos metadados\n",
    "        caminho_saida = caminho_imagem.split(\".\")[0] + \".jpeg\"\n",
    "        imagem.save(caminho_saida, \"PNG\", pnginfo=xmp)\n",
    "\n",
    "        print(f\"Metadados adicionados à imagem e salvo em: {caminho_saida}\")\n",
    "    except Exception as e:\n",
    "        print(f\"Ocorreu um erro: {e}\")"
   ]
  },
  {
   "cell_type": "code",
   "execution_count": 33,
   "metadata": {},
   "outputs": [],
   "source": [
    "def imprimir_metadados(caminho_imagem):\n",
    "    try:\n",
    "        # Abrir a imagem\n",
    "        imagem = Image.open(caminho_imagem)\n",
    "\n",
    "        # Extrair os metadados\n",
    "        metadados = imagem.info\n",
    "\n",
    "        # Verificar se há metadados adicionados\n",
    "        if \"objetos\" in metadados:\n",
    "            objetos = metadados[\"objetos\"].split(\",\")\n",
    "            print(\"Metadados adicionados à imagem:\")\n",
    "            for objeto in objetos:\n",
    "                print(objeto.strip())\n",
    "        else:\n",
    "            print(\"Nenhum metadado de objeto encontrado na imagem.\")\n",
    "    except Exception as e:\n",
    "        print(f\"Ocorreu um erro: {e}\")"
   ]
  },
  {
   "cell_type": "code",
   "execution_count": 39,
   "metadata": {},
   "outputs": [],
   "source": [
    "def separar_nomes(caminho_imagem):\n",
    "    # Extrai apenas o nome do arquivo (último texto após o último \"/\")\n",
    "    nome_arquivo = caminho_imagem.split('/')[-1]\n",
    "    \n",
    "    # Remove a extensão do arquivo\n",
    "    nome_arquivo_sem_extensao = nome_arquivo.split('.')[0]\n",
    "    \n",
    "    # Divide o nome do arquivo em palavras usando \"_\" como separador\n",
    "    palavras = nome_arquivo_sem_extensao.split('_')\n",
    "    \n",
    "    return palavras"
   ]
  },
  {
   "cell_type": "code",
   "execution_count": 41,
   "metadata": {},
   "outputs": [
    {
     "name": "stdout",
     "output_type": "stream",
     "text": [
      "['batom', 'agulhadecroche', 'parafuso', 'chaveferramenta']\n",
      "Metadados adicionados à imagem e salvo em: fundo_branco/iluminacao_alta/batom_agulhadecroche_parafuso_chaveferramenta.jpeg\n",
      "Metadados adicionados à imagem:\n",
      "batom\n",
      "agulhadecroche\n",
      "parafuso\n",
      "chaveferramenta\n"
     ]
    }
   ],
   "source": [
    "\n",
    "# Caminho da imagem e lista de objetos\n",
    "caminho_imagem = \"fundo_branco/iluminacao_alta/caderno_caneta_lapis.jpeg\"\n",
    "\n",
    "# Exemplo de uso\n",
    "nome_arquivo = caminho_imagem\n",
    "objetos = separar_nomes(nome_arquivo)\n",
    "\n",
    "print(objetos)\n",
    "# Adicionar metadados\n",
    "adicionar_objetos_metadados(caminho_imagem, objetos)\n",
    "\n",
    "# Imprimir metadados\n",
    "imprimir_metadados(caminho_imagem)\n"
   ]
  },
  {
   "cell_type": "markdown",
   "metadata": {},
   "source": [
    "______________________________________________________________________________________"
   ]
  },
  {
   "cell_type": "code",
   "execution_count": 7,
   "metadata": {},
   "outputs": [],
   "source": [
    "import pandas as pd\n",
    "\n",
    "# Criar um DataFrame com as classes\n",
    "data = {'classes': ['agulha de trico', 'agulha de croche', 'agulha', 'novelo', 'parafuso', 'ferramenta', 'caderno', 'caneta', 'lápis', 'pincel', 'protetor', 'batom'],\n",
    "        'variacoes de fundo': ['2 (branco, marrom)', '2 (branco, marrom)', '2 (branco, marrom)', '2 (branco, marrom)', '2 (branco, marrom)', '2 (branco, marrom)', '2 (branco, marrom)', '2 (branco, marrom)', '2 (branco, marrom)', '2 (branco, marrom)', '2 (branco, marrom)', '2 (branco, marrom)' ]\n",
    "\n",
    "        }\n",
    "df = pd.DataFrame(data)\n",
    "\n",
    "\n",
    "# print(df)"
   ]
  }
 ],
 "metadata": {
  "kernelspec": {
   "display_name": "base",
   "language": "python",
   "name": "python3"
  },
  "language_info": {
   "codemirror_mode": {
    "name": "ipython",
    "version": 3
   },
   "file_extension": ".py",
   "mimetype": "text/x-python",
   "name": "python",
   "nbconvert_exporter": "python",
   "pygments_lexer": "ipython3",
   "version": "3.11.4"
  }
 },
 "nbformat": 4,
 "nbformat_minor": 2
}
